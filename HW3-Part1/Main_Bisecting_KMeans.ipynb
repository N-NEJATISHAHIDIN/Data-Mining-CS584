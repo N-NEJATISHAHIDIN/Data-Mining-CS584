{
 "cells": [
  {
   "cell_type": "code",
   "execution_count": 18,
   "metadata": {},
   "outputs": [],
   "source": [
    "import pandas as pd\n",
    "import numpy as np\n",
    "import scipy.sparse as sp\n",
    "import matplotlib.pyplot as plt\n",
    "\n",
    "from PIL import Image\n",
    "from random import randint\n",
    "from matplotlib.axes._axes import _log as matplotlib_axes_logger"
   ]
  },
  {
   "cell_type": "markdown",
   "metadata": {},
   "source": [
    "### DATA\n",
    "I read the test data as panda data frame and convert it to numpy."
   ]
  },
  {
   "cell_type": "code",
   "execution_count": 19,
   "metadata": {},
   "outputs": [],
   "source": [
    "test = pd.read_csv(\"iris_new_data.csv\", header=None, skip_blank_lines=False, delim_whitespace=True)"
   ]
  },
  {
   "cell_type": "code",
   "execution_count": 20,
   "metadata": {},
   "outputs": [],
   "source": [
    "iris_np = pd.DataFrame.to_numpy(test)\n",
    "#print(iris_array[0:10])"
   ]
  },
  {
   "cell_type": "markdown",
   "metadata": {},
   "source": [
    "### Normalization\n",
    "Normalizing the data gratly imporove the performance."
   ]
  },
  {
   "cell_type": "code",
   "execution_count": 28,
   "metadata": {},
   "outputs": [],
   "source": [
    "# Normalization\n",
    "from sklearn.preprocessing import Normalizer\n",
    "\n",
    "transformer = Normalizer().fit(iris_np)  \n",
    "iris_np = transformer.transform(iris_np)"
   ]
  },
  {
   "cell_type": "markdown",
   "metadata": {},
   "source": [
    "# Bisecting KMeans\n",
    "This one is impelimented using KMeans class that I have implemented.\n",
    "The process is in 2 steps: \n",
    "\n",
    "### step 1\n",
    "\n",
    "clculate K mwan clustering for 2 cluster.\n"
   ]
  },
  {
   "cell_type": "code",
   "execution_count": 55,
   "metadata": {},
   "outputs": [
    {
     "name": "stderr",
     "output_type": "stream",
     "text": [
      "100%|██████████| 10/10 [00:00<00:00, 1788.84it/s]"
     ]
    },
    {
     "name": "stdout",
     "output_type": "stream",
     "text": [
      "--- 0.01410984992980957 seconds ---\n"
     ]
    },
    {
     "name": "stderr",
     "output_type": "stream",
     "text": [
      "\n"
     ]
    }
   ],
   "source": [
    "from KMean import *\n",
    "import time\n",
    "\n",
    "start_time = time.time()\n",
    "\n",
    "\n",
    "BKmean_Irish = KMeans(iris_np, 2,4)\n",
    "BKmean_Irish.Random_centroid()\n",
    "B2Error, B2label, Bcentroid = BKmean_Irish.Main(10)\n",
    "print(\"--- %s seconds ---\" % (time.time() - start_time))"
   ]
  },
  {
   "cell_type": "markdown",
   "metadata": {},
   "source": [
    "Calculating the class with the higher error :"
   ]
  },
  {
   "cell_type": "code",
   "execution_count": 56,
   "metadata": {},
   "outputs": [
    {
     "name": "stdout",
     "output_type": "stream",
     "text": [
      "[2 2 2 2 2 2 0 0 2 2 2 2 2 2 2 0 2 2 2 2 2 2 2 2 0 0 0 2 2 2 2 2 2 2 2 2 0\n",
      " 0 0 0 2 2 0 0 0 0 0 0 0 0 2 2 2 2 2 0 0 0 0 0 0 0 2 2 2 2 2 0 0 0 0 0 0 0\n",
      " 0 0 0 0 0 0 0 0 0 0 0 0 0 2 2 2 2 2 2 0 0 0 0 0 0 0 0 0 2 0 0 0 0 0 0 0 0\n",
      " 0 0 0 0 0 0 0 0 0 0 0 0 0 0 0 0 0 0 0 0 0 0 0 0 0 0 0 0 0 0 0 0 0 0 2 0 0\n",
      " 0 0]\n"
     ]
    }
   ],
   "source": [
    "High_error = np.argmax(B2Error)\n",
    "B2label[B2label == np.argmin(B2Error)] = 2\n",
    "print(B2label)\n",
    "\n"
   ]
  },
  {
   "cell_type": "code",
   "execution_count": 57,
   "metadata": {},
   "outputs": [],
   "source": [
    "def get_cmap(n, name='hsv'):\n",
    "    '''Returns a function that maps each index in 0, 1, ..., n-1 to a distinct \n",
    "    RGB color; the keyword argument name must be a standard mpl colormap name.'''\n",
    "    return plt.cm.get_cmap(name, n)"
   ]
  },
  {
   "cell_type": "markdown",
   "metadata": {},
   "source": [
    "#### Visualization \n",
    "This is visualization of 2 classes in 2D with the use of 2 features."
   ]
  },
  {
   "cell_type": "code",
   "execution_count": 58,
   "metadata": {},
   "outputs": [
    {
     "data": {
      "text/plain": [
       "<matplotlib.collections.PathCollection at 0x121ce6ed0>"
      ]
     },
     "execution_count": 58,
     "metadata": {},
     "output_type": "execute_result"
    },
    {
     "data": {
      "text/plain": [
       "<Figure size 432x288 with 0 Axes>"
      ]
     },
     "metadata": {},
     "output_type": "display_data"
    },
    {
     "data": {
      "image/png": "[encoded data removed]",
      "text/plain": [
       "<Figure size 432x288 with 1 Axes>"
      ]
     },
     "metadata": {
      "needs_background": "light"
     },
     "output_type": "display_data"
    }
   ],
   "source": [
    "matplotlib_axes_logger.setLevel('ERROR')\n",
    "fig = plt.figure()\n",
    "\n",
    "cmap = get_cmap(10)\n",
    "fig, ax = plt.subplots()\n",
    "\n",
    "ax.scatter(iris_np[B2label==High_error][:, 0], iris_np[B2label==High_error][:, 1], s=5, c='b')\n",
    "ax.scatter(iris_np[B2label==2][:, 0], iris_np[B2label==2][:, 1], s=5, c='y')\n",
    "ax.scatter(Bcentroid[1, 0], Bcentroid[1, 1], marker='*', s=20, c='#050505')\n",
    "ax.scatter(Bcentroid[0, 0], Bcentroid[0, 1], marker='*', s=20, c='#050505')\n"
   ]
  },
  {
   "cell_type": "markdown",
   "metadata": {},
   "source": [
    "### step 2\n",
    "Dividing the cluster with higher error into 2 smaller clusters"
   ]
  },
  {
   "cell_type": "code",
   "execution_count": 59,
   "metadata": {},
   "outputs": [
    {
     "name": "stderr",
     "output_type": "stream",
     "text": [
      "100%|██████████| 10/10 [00:00<00:00, 884.63it/s]"
     ]
    },
    {
     "name": "stdout",
     "output_type": "stream",
     "text": [
      "--- 0.020317792892456055 seconds ---\n"
     ]
    },
    {
     "name": "stderr",
     "output_type": "stream",
     "text": [
      "\n"
     ]
    }
   ],
   "source": [
    "start_time = time.time()\n",
    "\n",
    "\n",
    "B3Kmean_Irish = KMeans(iris_np[B2label == i], 2, 4)\n",
    "B3Kmean_Irish.Random_centroid()\n",
    "B3Error, B3label, B3centroid = B3Kmean_Irish.Main(10)\n",
    "print(\"--- %s seconds ---\" % (time.time() - start_time))"
   ]
  },
  {
   "cell_type": "code",
   "execution_count": 48,
   "metadata": {},
   "outputs": [
    {
     "name": "stdout",
     "output_type": "stream",
     "text": [
      "[2 2 2 2 2 2 0 0 2 2 2 2 2 2 2 0 2 2 2 2 2 2 2 2 0 0 1 2 2 2 2 2 2 2 2 2 0\n",
      " 0 0 1 2 2 0 0 0 0 0 0 1 1 2 2 2 2 2 0 0 0 0 1 1 1 2 2 2 2 2 0 0 0 0 0 0 0\n",
      " 0 0 0 1 0 0 1 0 0 1 1 1 1 2 2 2 2 2 2 0 0 1 1 1 1 1 1 1 2 0 0 0 0 0 0 0 0\n",
      " 1 1 1 1 1 1 0 0 0 0 0 1 1 1 1 0 0 1 1 1 0 0 0 0 0 1 1 1 1 1 1 1 1 1 2 0 1\n",
      " 1 1]\n"
     ]
    }
   ],
   "source": [
    "B2label[B2label == i] = B3label\n",
    "print (B2label)"
   ]
  },
  {
   "cell_type": "markdown",
   "metadata": {},
   "source": [
    "### visulaisation in 3D"
   ]
  },
  {
   "cell_type": "code",
   "execution_count": 50,
   "metadata": {},
   "outputs": [
    {
     "data": {
      "image/png": "[encoded data removed]",
      "text/plain": [
       "<Figure size 432x288 with 1 Axes>"
      ]
     },
     "metadata": {
      "needs_background": "light"
     },
     "output_type": "display_data"
    }
   ],
   "source": [
    "from matplotlib.axes._axes import _log as matplotlib_axes_logger\n",
    "from mpl_toolkits.mplot3d import Axes3D\n",
    "\n",
    "\n",
    "matplotlib_axes_logger.setLevel('ERROR')\n",
    "fig = plt.figure()\n",
    "ax = fig.add_subplot(111, projection='3d')\n",
    "cmap = get_cmap(10)\n",
    "\n",
    "\n",
    "for i in range(3):\n",
    "    ax.scatter(iris_np[B2label==i][:, 0], iris_np[B2label==i][:, 1], iris_np[B2label==i][:, 2], s=5, c=cmap(i))\n",
    "\n",
    "ax.set_xlabel('X Label')\n",
    "ax.set_ylabel('Y Label')\n",
    "ax.set_zlabel('Z Label')\n",
    "\n",
    "plt.show()"
   ]
  },
  {
   "cell_type": "code",
   "execution_count": 51,
   "metadata": {},
   "outputs": [],
   "source": [
    "np.savetxt(\"iris_submission_B\" + \".txt\", B2label, fmt='%s')"
   ]
  }
 ],
 "metadata": {
  "kernelspec": {
   "display_name": "Python 3",
   "language": "python",
   "name": "python3"
  },
  "language_info": {
   "codemirror_mode": {
    "name": "ipython",
    "version": 3
   },
   "file_extension": ".py",
   "mimetype": "text/x-python",
   "name": "python",
   "nbconvert_exporter": "python",
   "pygments_lexer": "ipython3",
   "version": "3.7.4"
  }
 },
 "nbformat": 4,
 "nbformat_minor": 2
}
